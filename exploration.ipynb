{
 "cells": [
  {
   "cell_type": "code",
   "execution_count": 1,
   "metadata": {},
   "outputs": [],
   "source": [
    "import pandas as pd\n",
    "import seaborn as sns\n",
    "import matplotlib.pyplot as plt\n",
    "from uuid import uuid4"
   ]
  },
  {
   "cell_type": "code",
   "execution_count": 2,
   "metadata": {},
   "outputs": [],
   "source": [
    "df = pd.read_csv('logs/r6-matches.log', header=None, names=['player_id', 'match_id', 'operator_id', 'nb_kills'])"
   ]
  },
  {
   "cell_type": "code",
   "execution_count": 3,
   "metadata": {},
   "outputs": [
    {
     "data": {
      "text/plain": [
       "(55833, 4)"
      ]
     },
     "execution_count": 3,
     "metadata": {},
     "output_type": "execute_result"
    }
   ],
   "source": [
    "df.shape"
   ]
  },
  {
   "cell_type": "code",
   "execution_count": 4,
   "metadata": {},
   "outputs": [
    {
     "data": {
      "text/plain": [
       "player_id      0\n",
       "match_id       0\n",
       "operator_id    0\n",
       "nb_kills       0\n",
       "dtype: int64"
      ]
     },
     "execution_count": 4,
     "metadata": {},
     "output_type": "execute_result"
    }
   ],
   "source": [
    "df.isnull().sum()"
   ]
  },
  {
   "cell_type": "code",
   "execution_count": null,
   "metadata": {},
   "outputs": [
    {
     "data": {
      "text/plain": [
       "operator_id\n",
       "14     2358\n",
       "24     2353\n",
       "30     2309\n",
       "46     2307\n",
       "64     2356\n",
       "72     2261\n",
       "73     2302\n",
       "84     2332\n",
       "100    2302\n",
       "107    2347\n",
       "109    2355\n",
       "112    2370\n",
       "130    2278\n",
       "132    2327\n",
       "173    2368\n",
       "193    2356\n",
       "194    2367\n",
       "211    2284\n",
       "230    2366\n",
       "233    2342\n",
       "237    2348\n",
       "241    2344\n",
       "245    2260\n",
       "253    2241\n",
       "Name: count, dtype: int64"
      ]
     },
     "execution_count": 5,
     "metadata": {},
     "output_type": "execute_result"
    }
   ],
   "source": [
    "df.operator_id.value_counts().sort_index()"
   ]
  },
  {
   "cell_type": "code",
   "execution_count": 6,
   "metadata": {},
   "outputs": [
    {
     "data": {
      "image/png": "[encoded data removed]",
      "text/plain": [
       "<Figure size 640x480 with 1 Axes>"
      ]
     },
     "metadata": {},
     "output_type": "display_data"
    }
   ],
   "source": [
    "sns.histplot(data=df, x='nb_kills')\n",
    "plt.show()"
   ]
  },
  {
   "cell_type": "code",
   "execution_count": 7,
   "metadata": {},
   "outputs": [
    {
     "data": {
      "text/plain": [
       "array([ 14,  24,  30,  46,  64,  72,  73,  84, 100, 107, 109, 112, 130,\n",
       "       132, 173, 193, 194, 211, 230, 233, 237, 241, 245, 253])"
      ]
     },
     "execution_count": 7,
     "metadata": {},
     "output_type": "execute_result"
    }
   ],
   "source": [
    "operators = df.operator_id.unique()\n",
    "operators.sort()\n",
    "operators"
   ]
  },
  {
   "cell_type": "markdown",
   "metadata": {},
   "source": [
    "operators = [ 14,  24,  30,  46,  64,  72,  73,  84, 100, 107, 109, 112, 130, 132, 173, 193, 194, 211, 230, 233, 237, 241, 245, 253 ]"
   ]
  },
  {
   "cell_type": "code",
   "execution_count": 8,
   "metadata": {},
   "outputs": [
    {
     "data": {
      "text/html": [
       "<div>\n",
       "<style scoped>\n",
       "    .dataframe tbody tr th:only-of-type {\n",
       "        vertical-align: middle;\n",
       "    }\n",
       "\n",
       "    .dataframe tbody tr th {\n",
       "        vertical-align: top;\n",
       "    }\n",
       "\n",
       "    .dataframe thead th {\n",
       "        text-align: right;\n",
       "    }\n",
       "</style>\n",
       "<table border=\"1\" class=\"dataframe\">\n",
       "  <thead>\n",
       "    <tr style=\"text-align: right;\">\n",
       "      <th></th>\n",
       "      <th>nb_kills</th>\n",
       "    </tr>\n",
       "    <tr>\n",
       "      <th>operator_id</th>\n",
       "      <th></th>\n",
       "    </tr>\n",
       "  </thead>\n",
       "  <tbody>\n",
       "    <tr>\n",
       "      <th>84</th>\n",
       "      <td>1.947256</td>\n",
       "    </tr>\n",
       "    <tr>\n",
       "      <th>73</th>\n",
       "      <td>1.959166</td>\n",
       "    </tr>\n",
       "    <tr>\n",
       "      <th>241</th>\n",
       "      <td>1.966724</td>\n",
       "    </tr>\n",
       "    <tr>\n",
       "      <th>130</th>\n",
       "      <td>1.972344</td>\n",
       "    </tr>\n",
       "    <tr>\n",
       "      <th>230</th>\n",
       "      <td>1.979290</td>\n",
       "    </tr>\n",
       "    <tr>\n",
       "      <th>24</th>\n",
       "      <td>1.980875</td>\n",
       "    </tr>\n",
       "    <tr>\n",
       "      <th>233</th>\n",
       "      <td>1.982067</td>\n",
       "    </tr>\n",
       "    <tr>\n",
       "      <th>193</th>\n",
       "      <td>1.990238</td>\n",
       "    </tr>\n",
       "    <tr>\n",
       "      <th>245</th>\n",
       "      <td>1.990708</td>\n",
       "    </tr>\n",
       "    <tr>\n",
       "      <th>173</th>\n",
       "      <td>1.992821</td>\n",
       "    </tr>\n",
       "    <tr>\n",
       "      <th>72</th>\n",
       "      <td>1.994250</td>\n",
       "    </tr>\n",
       "    <tr>\n",
       "      <th>46</th>\n",
       "      <td>2.000000</td>\n",
       "    </tr>\n",
       "    <tr>\n",
       "      <th>194</th>\n",
       "      <td>2.005915</td>\n",
       "    </tr>\n",
       "    <tr>\n",
       "      <th>30</th>\n",
       "      <td>2.009528</td>\n",
       "    </tr>\n",
       "    <tr>\n",
       "      <th>100</th>\n",
       "      <td>2.009557</td>\n",
       "    </tr>\n",
       "    <tr>\n",
       "      <th>109</th>\n",
       "      <td>2.010616</td>\n",
       "    </tr>\n",
       "    <tr>\n",
       "      <th>107</th>\n",
       "      <td>2.013208</td>\n",
       "    </tr>\n",
       "    <tr>\n",
       "      <th>132</th>\n",
       "      <td>2.013322</td>\n",
       "    </tr>\n",
       "    <tr>\n",
       "      <th>237</th>\n",
       "      <td>2.018739</td>\n",
       "    </tr>\n",
       "    <tr>\n",
       "      <th>112</th>\n",
       "      <td>2.024051</td>\n",
       "    </tr>\n",
       "    <tr>\n",
       "      <th>253</th>\n",
       "      <td>2.031682</td>\n",
       "    </tr>\n",
       "    <tr>\n",
       "      <th>64</th>\n",
       "      <td>2.047963</td>\n",
       "    </tr>\n",
       "    <tr>\n",
       "      <th>14</th>\n",
       "      <td>2.048770</td>\n",
       "    </tr>\n",
       "    <tr>\n",
       "      <th>211</th>\n",
       "      <td>2.054729</td>\n",
       "    </tr>\n",
       "  </tbody>\n",
       "</table>\n",
       "</div>"
      ],
      "text/plain": [
       "             nb_kills\n",
       "operator_id          \n",
       "84           1.947256\n",
       "73           1.959166\n",
       "241          1.966724\n",
       "130          1.972344\n",
       "230          1.979290\n",
       "24           1.980875\n",
       "233          1.982067\n",
       "193          1.990238\n",
       "245          1.990708\n",
       "173          1.992821\n",
       "72           1.994250\n",
       "46           2.000000\n",
       "194          2.005915\n",
       "30           2.009528\n",
       "100          2.009557\n",
       "109          2.010616\n",
       "107          2.013208\n",
       "132          2.013322\n",
       "237          2.018739\n",
       "112          2.024051\n",
       "253          2.031682\n",
       "64           2.047963\n",
       "14           2.048770\n",
       "211          2.054729"
      ]
     },
     "execution_count": 8,
     "metadata": {},
     "output_type": "execute_result"
    }
   ],
   "source": [
    "operators_mean_kills = df[['operator_id', 'nb_kills']].groupby('operator_id').mean()\n",
    "operators_mean_kills.sort_values(by='nb_kills')"
   ]
  },
  {
   "cell_type": "code",
   "execution_count": 9,
   "metadata": {},
   "outputs": [
    {
     "data": {
      "image/png": "[encoded data removed]",
      "text/plain": [
       "<Figure size 640x480 with 1 Axes>"
      ]
     },
     "metadata": {},
     "output_type": "display_data"
    }
   ],
   "source": [
    "operators_mean_kills.plot(kind='bar')\n",
    "plt.show()"
   ]
  },
  {
   "cell_type": "code",
   "execution_count": 10,
   "metadata": {},
   "outputs": [
    {
     "data": {
      "text/plain": [
       "1000"
      ]
     },
     "execution_count": 10,
     "metadata": {},
     "output_type": "execute_result"
    }
   ],
   "source": [
    "len(df.match_id.unique())"
   ]
  },
  {
   "cell_type": "code",
   "execution_count": 11,
   "metadata": {},
   "outputs": [
    {
     "data": {
      "text/plain": [
       "55.833"
      ]
     },
     "execution_count": 11,
     "metadata": {},
     "output_type": "execute_result"
    }
   ],
   "source": [
    "55833/1000"
   ]
  },
  {
   "cell_type": "code",
   "execution_count": null,
   "metadata": {},
   "outputs": [
    {
     "data": {
      "text/plain": [
       "match_id\n",
       "506c9763-56ae-4184-b518-f4044dac2d80    82\n",
       "cd7c0f25-eab9-4b90-9dfb-e39e1840cb31    81\n",
       "b5bceb4c-e933-4fab-8461-da0b85d826d1    79\n",
       "2c941a41-2b81-48bb-9231-5b5ff6c96928    79\n",
       "ad94f1aa-3658-4571-b05f-c58558c43916    78\n",
       "                                        ..\n",
       "eca997a1-e0d3-4056-bc97-9ad5fbfe1b4e    32\n",
       "d13e560e-da97-4181-b131-9da6bf2a7906    28\n",
       "97d6e99d-97ca-45b8-9f91-2c0f37a6800e    25\n",
       "1630d5db-9c39-435b-b307-c4d066d2c4a3    25\n",
       "23cca365-72b0-467e-a8e9-3ef36e33c3a0    25\n",
       "Name: count, Length: 1000, dtype: int64"
      ]
     },
     "execution_count": 12,
     "metadata": {},
     "output_type": "execute_result"
    }
   ],
   "source": [
    "df.match_id.value_counts()"
   ]
  },
  {
   "cell_type": "code",
   "execution_count": 13,
   "metadata": {},
   "outputs": [
    {
     "data": {
      "text/plain": [
       "30000.0"
      ]
     },
     "execution_count": 13,
     "metadata": {},
     "output_type": "execute_result"
    }
   ],
   "source": [
    "# Techinque de CamCam: copy no jutsu\n",
    "30000000 / 1000"
   ]
  },
  {
   "cell_type": "code",
   "execution_count": 14,
   "metadata": {},
   "outputs": [
    {
     "data": {
      "text/html": [
       "<div>\n",
       "<style scoped>\n",
       "    .dataframe tbody tr th:only-of-type {\n",
       "        vertical-align: middle;\n",
       "    }\n",
       "\n",
       "    .dataframe tbody tr th {\n",
       "        vertical-align: top;\n",
       "    }\n",
       "\n",
       "    .dataframe thead th {\n",
       "        text-align: right;\n",
       "    }\n",
       "</style>\n",
       "<table border=\"1\" class=\"dataframe\">\n",
       "  <thead>\n",
       "    <tr style=\"text-align: right;\">\n",
       "      <th></th>\n",
       "      <th>player_id</th>\n",
       "      <th>match_id</th>\n",
       "      <th>operator_id</th>\n",
       "      <th>nb_kills</th>\n",
       "    </tr>\n",
       "  </thead>\n",
       "  <tbody>\n",
       "    <tr>\n",
       "      <th>0</th>\n",
       "      <td>2a701965-61bc-465e-af5e-5d5e5c17dd99</td>\n",
       "      <td>0529caed-499d-4898-add6-66d9a99ee836</td>\n",
       "      <td>107</td>\n",
       "      <td>3</td>\n",
       "    </tr>\n",
       "    <tr>\n",
       "      <th>1</th>\n",
       "      <td>8908c2ef-d237-47aa-8349-ca742e92cb43</td>\n",
       "      <td>332c42ce-a1b4-4061-82a0-3581b5e59c4c</td>\n",
       "      <td>253</td>\n",
       "      <td>1</td>\n",
       "    </tr>\n",
       "    <tr>\n",
       "      <th>2</th>\n",
       "      <td>42581394-d493-4e23-a44a-5ec7be0b5c97</td>\n",
       "      <td>b1337cda-b953-42f5-a67d-9382f443e9e2</td>\n",
       "      <td>233</td>\n",
       "      <td>4</td>\n",
       "    </tr>\n",
       "    <tr>\n",
       "      <th>3</th>\n",
       "      <td>7d193480-6a18-49ab-9dfb-43fb96b5a294</td>\n",
       "      <td>81e9eeb7-b242-4f25-8695-5042b2aec2c8</td>\n",
       "      <td>72</td>\n",
       "      <td>4</td>\n",
       "    </tr>\n",
       "    <tr>\n",
       "      <th>4</th>\n",
       "      <td>13b4885c-e3c0-4457-b01e-0d4024498ca3</td>\n",
       "      <td>b657d116-11dc-4ed2-bd99-8e5ac9fba608</td>\n",
       "      <td>84</td>\n",
       "      <td>3</td>\n",
       "    </tr>\n",
       "    <tr>\n",
       "      <th>...</th>\n",
       "      <td>...</td>\n",
       "      <td>...</td>\n",
       "      <td>...</td>\n",
       "      <td>...</td>\n",
       "    </tr>\n",
       "    <tr>\n",
       "      <th>55828</th>\n",
       "      <td>2562dc81-eb64-4846-ac7b-d59ac10895d5</td>\n",
       "      <td>d6f0e69c-60da-4ea0-8101-41772b4979be</td>\n",
       "      <td>64</td>\n",
       "      <td>0</td>\n",
       "    </tr>\n",
       "    <tr>\n",
       "      <th>55829</th>\n",
       "      <td>f4201088-bf2a-4c51-bb95-420c16a37b31</td>\n",
       "      <td>79aa185f-d00d-4815-9d75-b43b44398fb6</td>\n",
       "      <td>24</td>\n",
       "      <td>2</td>\n",
       "    </tr>\n",
       "    <tr>\n",
       "      <th>55830</th>\n",
       "      <td>ffe8a0f0-fadc-4c5b-aeb1-9dade0493501</td>\n",
       "      <td>ae221e42-4596-459e-8b93-2894a160126f</td>\n",
       "      <td>253</td>\n",
       "      <td>0</td>\n",
       "    </tr>\n",
       "    <tr>\n",
       "      <th>55831</th>\n",
       "      <td>452b8491-e29d-47b8-bf9b-f4187fc5f973</td>\n",
       "      <td>62b7118a-154a-4a25-9060-b8e92880b415</td>\n",
       "      <td>233</td>\n",
       "      <td>0</td>\n",
       "    </tr>\n",
       "    <tr>\n",
       "      <th>55832</th>\n",
       "      <td>287bf112-f6e3-4b2e-8909-0f6dafc1f384</td>\n",
       "      <td>5ea7cb7d-1a90-4a66-9dec-a0e91c76810b</td>\n",
       "      <td>245</td>\n",
       "      <td>3</td>\n",
       "    </tr>\n",
       "  </tbody>\n",
       "</table>\n",
       "<p>55833 rows × 4 columns</p>\n",
       "</div>"
      ],
      "text/plain": [
       "                                  player_id  \\\n",
       "0      2a701965-61bc-465e-af5e-5d5e5c17dd99   \n",
       "1      8908c2ef-d237-47aa-8349-ca742e92cb43   \n",
       "2      42581394-d493-4e23-a44a-5ec7be0b5c97   \n",
       "3      7d193480-6a18-49ab-9dfb-43fb96b5a294   \n",
       "4      13b4885c-e3c0-4457-b01e-0d4024498ca3   \n",
       "...                                     ...   \n",
       "55828  2562dc81-eb64-4846-ac7b-d59ac10895d5   \n",
       "55829  f4201088-bf2a-4c51-bb95-420c16a37b31   \n",
       "55830  ffe8a0f0-fadc-4c5b-aeb1-9dade0493501   \n",
       "55831  452b8491-e29d-47b8-bf9b-f4187fc5f973   \n",
       "55832  287bf112-f6e3-4b2e-8909-0f6dafc1f384   \n",
       "\n",
       "                                   match_id  operator_id  nb_kills  \n",
       "0      0529caed-499d-4898-add6-66d9a99ee836          107         3  \n",
       "1      332c42ce-a1b4-4061-82a0-3581b5e59c4c          253         1  \n",
       "2      b1337cda-b953-42f5-a67d-9382f443e9e2          233         4  \n",
       "3      81e9eeb7-b242-4f25-8695-5042b2aec2c8           72         4  \n",
       "4      b657d116-11dc-4ed2-bd99-8e5ac9fba608           84         3  \n",
       "...                                     ...          ...       ...  \n",
       "55828  d6f0e69c-60da-4ea0-8101-41772b4979be           64         0  \n",
       "55829  79aa185f-d00d-4815-9d75-b43b44398fb6           24         2  \n",
       "55830  ae221e42-4596-459e-8b93-2894a160126f          253         0  \n",
       "55831  62b7118a-154a-4a25-9060-b8e92880b415          233         0  \n",
       "55832  5ea7cb7d-1a90-4a66-9dec-a0e91c76810b          245         3  \n",
       "\n",
       "[55833 rows x 4 columns]"
      ]
     },
     "execution_count": 14,
     "metadata": {},
     "output_type": "execute_result"
    }
   ],
   "source": [
    "match_ids = df.match_id.unique()\n",
    "match_transformation = {\n",
    "    match_id: str(uuid4()) for match_id in match_ids\n",
    "}\n",
    "\n",
    "player_ids = df.player_id.unique()\n",
    "player_transformation = {\n",
    "    player_id: str(uuid4()) for player_id in player_ids\n",
    "}\n",
    "\n",
    "transformations = {\n",
    "    'match_id': match_transformation, \n",
    "    'player_id': player_transformation\n",
    "}\n",
    "df.copy().replace(transformations)"
   ]
  },
  {
   "cell_type": "markdown",
   "metadata": {},
   "source": [
    "operator_top100_YYYYMMDD.txt (both on the last 7 days.)\n",
    "\n",
    "operator_id|match_id1:avg_kills1,match_id2:avg_kills2,...,match_id100:avg_kills100 "
   ]
  },
  {
   "cell_type": "code",
   "execution_count": 15,
   "metadata": {},
   "outputs": [
    {
     "name": "stdout",
     "output_type": "stream",
     "text": [
      "Current memory usage: 0.25 MB\n",
      "Peak memory usage: 4.90 MB\n",
      "[ Top 5 differences ]\n",
      "/home/martin/miniconda3/envs/r6-logs/lib/python3.12/site-packages/pandas/core/groupby/ops.py:405: size=174 KiB (+174 KiB), count=2 (+2), average=87.1 KiB\n",
      "/home/martin/miniconda3/envs/r6-logs/lib/python3.12/site-packages/pandas/core/dtypes/cast.py:978: size=43.6 KiB (+43.6 KiB), count=2 (+2), average=21.8 KiB\n",
      "/home/martin/miniconda3/envs/r6-logs/lib/python3.12/site-packages/pandas/core/dtypes/cast.py:976: size=21.9 KiB (+21.9 KiB), count=2 (+2), average=10.9 KiB\n",
      "/home/martin/miniconda3/envs/r6-logs/lib/python3.12/site-packages/pandas/core/algorithms.py:1517: size=8384 B (+8384 B), count=4 (+4), average=2096 B\n",
      "/home/martin/miniconda3/envs/r6-logs/lib/python3.12/site-packages/ipykernel/iostream.py:684: size=1353 B (+1353 B), count=9 (+9), average=150 B\n"
     ]
    },
    {
     "data": {
      "text/plain": [
       "match_id                              operator_id\n",
       "00236da6-e7a0-4d93-83ec-b14969a257ce  14             2.000000\n",
       "                                      24             1.666667\n",
       "                                      30             2.333333\n",
       "                                      46             1.500000\n",
       "                                      64             1.000000\n",
       "                                                       ...   \n",
       "ffcabedd-1eca-4f02-8dd4-28fd9133e87c  233            2.500000\n",
       "                                      237            1.333333\n",
       "                                      241            2.750000\n",
       "                                      245            3.500000\n",
       "                                      253            1.000000\n",
       "Name: nb_kills, Length: 22285, dtype: float64"
      ]
     },
     "execution_count": 15,
     "metadata": {},
     "output_type": "execute_result"
    }
   ],
   "source": [
    "import tracemalloc\n",
    "tracemalloc.start()\n",
    "\n",
    "snapshot1 = tracemalloc.take_snapshot()\n",
    "\n",
    "# Your code here\n",
    "mean = df.groupby(['match_id', 'operator_id'])['nb_kills'].mean()\n",
    "\n",
    "\n",
    "# Get the current memory usage\n",
    "current, peak = tracemalloc.get_traced_memory()\n",
    "\n",
    "print(f\"Current memory usage: {current / (1024**2):.2f} MB\")\n",
    "print(f\"Peak memory usage: {peak / (1024**2):.2f} MB\")\n",
    "\n",
    "snapshot2 = tracemalloc.take_snapshot()\n",
    "\n",
    "top_stats = snapshot2.compare_to(snapshot1, 'lineno')\n",
    "\n",
    "print(\"[ Top 5 differences ]\")\n",
    "for stat in top_stats[:5]:\n",
    "    print(stat)\n",
    "\n",
    "# Stop the tracemalloc\n",
    "tracemalloc.stop()\n",
    "\n",
    "mean\n",
    "\n"
   ]
  },
  {
   "cell_type": "code",
   "execution_count": 16,
   "metadata": {},
   "outputs": [
    {
     "name": "stdout",
     "output_type": "stream",
     "text": [
      "Current memory usage: 0.00 MB\n",
      "Peak memory usage: 0.05 MB\n",
      "[ Top 5 differences ]\n",
      "/home/martin/miniconda3/envs/r6-logs/lib/python3.12/site-packages/ipykernel/iostream.py:684: size=1241 B (+1241 B), count=7 (+7), average=177 B\n",
      "/home/martin/miniconda3/envs/r6-logs/lib/python3.12/codeop.py:126: size=759 B (+473 B), count=10 (+8), average=76 B\n",
      "/home/martin/miniconda3/envs/r6-logs/lib/python3.12/tracemalloc.py:560: size=296 B (+296 B), count=2 (+2), average=148 B\n",
      "/home/martin/miniconda3/envs/r6-logs/lib/python3.12/tracemalloc.py:423: size=296 B (+296 B), count=2 (+2), average=148 B\n",
      "/home/martin/miniconda3/envs/r6-logs/lib/python3.12/site-packages/ipykernel/iostream.py:587: size=160 B (+160 B), count=1 (+1), average=160 B\n"
     ]
    }
   ],
   "source": [
    "from pathlib import Path\n",
    "\n",
    "\n",
    "tracemalloc.start()\n",
    "\n",
    "snapshot1 = tracemalloc.take_snapshot()\n",
    "\n",
    "# Your code here\n",
    "\n",
    "path = Path('logs/test.log')\n",
    "\n",
    "if not path.exists():\n",
    "    path.parent.mkdir(parents=True, exist_ok=True)\n",
    "\n",
    "    file = path.open(mode='a')\n",
    "\n",
    "    df.to_csv(file, index=False, header=False)\n",
    "\n",
    "    for i in range(10):\n",
    "        match_ids = df.match_id.unique()\n",
    "        match_transformation = {\n",
    "            match_id: str(uuid4()) for match_id in match_ids\n",
    "        }\n",
    "\n",
    "        player_ids = df.player_id.unique()\n",
    "        player_transformation = {\n",
    "            player_id: str(uuid4()) for player_id in player_ids\n",
    "        }\n",
    "\n",
    "        transformations = {\n",
    "            'match_id': match_transformation, \n",
    "            'player_id': player_transformation\n",
    "        }\n",
    "        df.copy().replace(transformations).to_csv(file, mode='a', index=False, header=False)\n",
    "\n",
    "\n",
    "# Get the current memory usage\n",
    "current, peak = tracemalloc.get_traced_memory()\n",
    "\n",
    "print(f\"Current memory usage: {current / (1024**2):.2f} MB\")\n",
    "print(f\"Peak memory usage: {peak / (1024**2):.2f} MB\")\n",
    "\n",
    "snapshot2 = tracemalloc.take_snapshot()\n",
    "\n",
    "top_stats = snapshot2.compare_to(snapshot1, 'lineno')\n",
    "\n",
    "print(\"[ Top 5 differences ]\")\n",
    "for stat in top_stats[:5]:\n",
    "    print(stat)\n",
    "\n",
    "# Stop the tracemalloc\n",
    "tracemalloc.stop()\n"
   ]
  },
  {
   "cell_type": "code",
   "execution_count": 17,
   "metadata": {},
   "outputs": [
    {
     "data": {
      "text/html": [
       "<div>\n",
       "<style scoped>\n",
       "    .dataframe tbody tr th:only-of-type {\n",
       "        vertical-align: middle;\n",
       "    }\n",
       "\n",
       "    .dataframe tbody tr th {\n",
       "        vertical-align: top;\n",
       "    }\n",
       "\n",
       "    .dataframe thead th {\n",
       "        text-align: right;\n",
       "    }\n",
       "</style>\n",
       "<table border=\"1\" class=\"dataframe\">\n",
       "  <thead>\n",
       "    <tr style=\"text-align: right;\">\n",
       "      <th></th>\n",
       "      <th>player_id</th>\n",
       "      <th>match_id</th>\n",
       "      <th>nb_kills</th>\n",
       "    </tr>\n",
       "  </thead>\n",
       "  <tbody>\n",
       "    <tr>\n",
       "      <th>20</th>\n",
       "      <td>019e3442-b018-44a3-abf4-a7a72ae09c56</td>\n",
       "      <td>39145b0e-91de-479d-838a-e256fc32a913</td>\n",
       "      <td>27</td>\n",
       "    </tr>\n",
       "    <tr>\n",
       "      <th>46</th>\n",
       "      <td>019e3442-b018-44a3-abf4-a7a72ae09c56</td>\n",
       "      <td>799fec09-87fb-4f94-8c5b-dd6aa224077a</td>\n",
       "      <td>26</td>\n",
       "    </tr>\n",
       "    <tr>\n",
       "      <th>12</th>\n",
       "      <td>019e3442-b018-44a3-abf4-a7a72ae09c56</td>\n",
       "      <td>2d3a6e85-5f4e-4e86-b64e-8e8d491ba0b1</td>\n",
       "      <td>24</td>\n",
       "    </tr>\n",
       "    <tr>\n",
       "      <th>98</th>\n",
       "      <td>019e3442-b018-44a3-abf4-a7a72ae09c56</td>\n",
       "      <td>fbde1191-27c7-451e-a98c-c87ef0d40a48</td>\n",
       "      <td>24</td>\n",
       "    </tr>\n",
       "    <tr>\n",
       "      <th>47</th>\n",
       "      <td>019e3442-b018-44a3-abf4-a7a72ae09c56</td>\n",
       "      <td>79ad31ac-d36c-4f13-89e9-7d6001cbe585</td>\n",
       "      <td>23</td>\n",
       "    </tr>\n",
       "    <tr>\n",
       "      <th>...</th>\n",
       "      <td>...</td>\n",
       "      <td>...</td>\n",
       "      <td>...</td>\n",
       "    </tr>\n",
       "    <tr>\n",
       "      <th>9955</th>\n",
       "      <td>fec8ca0b-4461-4fc7-b12f-b08f60326490</td>\n",
       "      <td>a779e302-d37a-4b9e-8ceb-3bb1fafaeb2a</td>\n",
       "      <td>1</td>\n",
       "    </tr>\n",
       "    <tr>\n",
       "      <th>9885</th>\n",
       "      <td>fec8ca0b-4461-4fc7-b12f-b08f60326490</td>\n",
       "      <td>1cac0d83-62ce-4527-90f1-b08f1d946d5c</td>\n",
       "      <td>0</td>\n",
       "    </tr>\n",
       "    <tr>\n",
       "      <th>9927</th>\n",
       "      <td>fec8ca0b-4461-4fc7-b12f-b08f60326490</td>\n",
       "      <td>69fdcd03-aad6-4f07-8e3c-a1971af159a0</td>\n",
       "      <td>0</td>\n",
       "    </tr>\n",
       "    <tr>\n",
       "      <th>9944</th>\n",
       "      <td>fec8ca0b-4461-4fc7-b12f-b08f60326490</td>\n",
       "      <td>8928b85b-2c3d-49a6-9792-5ed7d36b2492</td>\n",
       "      <td>0</td>\n",
       "    </tr>\n",
       "    <tr>\n",
       "      <th>9964</th>\n",
       "      <td>fec8ca0b-4461-4fc7-b12f-b08f60326490</td>\n",
       "      <td>b49e4473-58e5-4bf1-a45f-7336fb8ddc80</td>\n",
       "      <td>0</td>\n",
       "    </tr>\n",
       "  </tbody>\n",
       "</table>\n",
       "<p>10000 rows × 3 columns</p>\n",
       "</div>"
      ],
      "text/plain": [
       "                                 player_id  \\\n",
       "20    019e3442-b018-44a3-abf4-a7a72ae09c56   \n",
       "46    019e3442-b018-44a3-abf4-a7a72ae09c56   \n",
       "12    019e3442-b018-44a3-abf4-a7a72ae09c56   \n",
       "98    019e3442-b018-44a3-abf4-a7a72ae09c56   \n",
       "47    019e3442-b018-44a3-abf4-a7a72ae09c56   \n",
       "...                                    ...   \n",
       "9955  fec8ca0b-4461-4fc7-b12f-b08f60326490   \n",
       "9885  fec8ca0b-4461-4fc7-b12f-b08f60326490   \n",
       "9927  fec8ca0b-4461-4fc7-b12f-b08f60326490   \n",
       "9944  fec8ca0b-4461-4fc7-b12f-b08f60326490   \n",
       "9964  fec8ca0b-4461-4fc7-b12f-b08f60326490   \n",
       "\n",
       "                                  match_id  nb_kills  \n",
       "20    39145b0e-91de-479d-838a-e256fc32a913        27  \n",
       "46    799fec09-87fb-4f94-8c5b-dd6aa224077a        26  \n",
       "12    2d3a6e85-5f4e-4e86-b64e-8e8d491ba0b1        24  \n",
       "98    fbde1191-27c7-451e-a98c-c87ef0d40a48        24  \n",
       "47    79ad31ac-d36c-4f13-89e9-7d6001cbe585        23  \n",
       "...                                    ...       ...  \n",
       "9955  a779e302-d37a-4b9e-8ceb-3bb1fafaeb2a         1  \n",
       "9885  1cac0d83-62ce-4527-90f1-b08f1d946d5c         0  \n",
       "9927  69fdcd03-aad6-4f07-8e3c-a1971af159a0         0  \n",
       "9944  8928b85b-2c3d-49a6-9792-5ed7d36b2492         0  \n",
       "9964  b49e4473-58e5-4bf1-a45f-7336fb8ddc80         0  \n",
       "\n",
       "[10000 rows x 3 columns]"
      ]
     },
     "execution_count": 17,
     "metadata": {},
     "output_type": "execute_result"
    }
   ],
   "source": [
    "def top_100_average_kills_per_operator(df: pd.DataFrame): \n",
    "    return (\n",
    "        df.groupby(\n",
    "            ['operator_id', 'match_id']\n",
    "        )['nb_kills']\n",
    "        .mean()\n",
    "        .reset_index()\n",
    "        .sort_values(\n",
    "            by=['operator_id', 'nb_kills'], \n",
    "            ascending=[True, False]\n",
    "        )\n",
    "        .groupby(\n",
    "            by='operator_id'\n",
    "        )\n",
    "        .head(100)\n",
    "    )\n",
    "\n",
    "def top_10_best_matchs_per_player(df: pd.DataFrame): \n",
    "    return (\n",
    "        df.groupby(\n",
    "            by=['player_id', 'match_id']\n",
    "        )['nb_kills']\n",
    "        .sum()\n",
    "        .reset_index()\n",
    "        .sort_values(\n",
    "            by=['player_id', 'nb_kills'],\n",
    "            ascending=[True, False]\n",
    "        )\n",
    "        .groupby(\n",
    "            by='match_id'\n",
    "        ).head(10)\n",
    "    )\n",
    "\n",
    "# top_100_average_kills_per_operator(df)\n",
    "top_10_best_matchs_per_player(df)"
   ]
  },
  {
   "cell_type": "code",
   "execution_count": 18,
   "metadata": {},
   "outputs": [
    {
     "name": "stdout",
     "output_type": "stream",
     "text": [
      "Peak memory usage: 67.67 MB\n"
     ]
    }
   ],
   "source": [
    "tracemalloc.start()\n",
    "test_df = pd.read_csv('logs/test.log', header=None, names=['player_id', 'match_id', 'operator_id', 'nb_kills'])\n",
    "\n",
    "top_avg_kills = top_100_average_kills_per_operator(test_df)\n",
    "top_best_matchs = top_10_best_matchs_per_player(test_df)\n",
    "\n",
    "\n",
    "current, peak = tracemalloc.get_traced_memory()\n",
    "tracemalloc.stop()\n",
    "print(f\"Peak memory usage: {peak / (1024**2):.2f} MB\")"
   ]
  },
  {
   "cell_type": "code",
   "execution_count": 19,
   "metadata": {},
   "outputs": [],
   "source": [
    "chunksize = 10 ** 5\n",
    "\n",
    "chunked_df = pd.read_csv('logs/test.log', header=None, names=['player_id', 'match_id', 'operator_id', 'nb_kills'], chunksize=chunksize)"
   ]
  },
  {
   "cell_type": "code",
   "execution_count": 20,
   "metadata": {},
   "outputs": [
    {
     "data": {
      "text/plain": [
       "pandas.io.parsers.readers.TextFileReader"
      ]
     },
     "execution_count": 20,
     "metadata": {},
     "output_type": "execute_result"
    }
   ],
   "source": [
    "type(chunked_df)"
   ]
  },
  {
   "cell_type": "code",
   "execution_count": 21,
   "metadata": {},
   "outputs": [],
   "source": [
    "chunk = chunked_df.get_chunk()"
   ]
  },
  {
   "cell_type": "code",
   "execution_count": 22,
   "metadata": {},
   "outputs": [
    {
     "data": {
      "text/plain": [
       "pandas.core.frame.DataFrame"
      ]
     },
     "execution_count": 22,
     "metadata": {},
     "output_type": "execute_result"
    }
   ],
   "source": [
    "type(chunk)"
   ]
  },
  {
   "cell_type": "code",
   "execution_count": 23,
   "metadata": {},
   "outputs": [],
   "source": [
    "import tempfile\n",
    "def store_tempfile(df:pd.DataFrame): \n",
    "\n",
    "    with tempfile.NamedTemporaryFile(mode='w', suffix='.csv', delete=False) as temp_file:\n",
    "        df.to_csv(temp_file, index=False, header=True)\n",
    "        temp_file_path = temp_file.name\n",
    "\n",
    "        return temp_file_path"
   ]
  },
  {
   "cell_type": "code",
   "execution_count": 24,
   "metadata": {},
   "outputs": [],
   "source": [
    "temp_file_path = store_tempfile(top_100_average_kills_per_operator(chunk))"
   ]
  },
  {
   "cell_type": "code",
   "execution_count": 25,
   "metadata": {},
   "outputs": [
    {
     "data": {
      "text/html": [
       "<div>\n",
       "<style scoped>\n",
       "    .dataframe tbody tr th:only-of-type {\n",
       "        vertical-align: middle;\n",
       "    }\n",
       "\n",
       "    .dataframe tbody tr th {\n",
       "        vertical-align: top;\n",
       "    }\n",
       "\n",
       "    .dataframe thead th {\n",
       "        text-align: right;\n",
       "    }\n",
       "</style>\n",
       "<table border=\"1\" class=\"dataframe\">\n",
       "  <thead>\n",
       "    <tr style=\"text-align: right;\">\n",
       "      <th></th>\n",
       "      <th>operator_id</th>\n",
       "      <th>match_id</th>\n",
       "      <th>nb_kills</th>\n",
       "    </tr>\n",
       "  </thead>\n",
       "  <tbody>\n",
       "    <tr>\n",
       "      <th>0</th>\n",
       "      <td>14</td>\n",
       "      <td>0240b2df-ba89-4a1a-b491-a3c34a9e9c86</td>\n",
       "      <td>4.0</td>\n",
       "    </tr>\n",
       "    <tr>\n",
       "      <th>1</th>\n",
       "      <td>14</td>\n",
       "      <td>034e52a5-243e-4174-8142-488a47946814</td>\n",
       "      <td>4.0</td>\n",
       "    </tr>\n",
       "    <tr>\n",
       "      <th>2</th>\n",
       "      <td>14</td>\n",
       "      <td>055b422d-f92e-4ea3-a159-4d7589ae9cea</td>\n",
       "      <td>4.0</td>\n",
       "    </tr>\n",
       "    <tr>\n",
       "      <th>3</th>\n",
       "      <td>14</td>\n",
       "      <td>0644773a-b238-49ea-800c-2f8460cb09ce</td>\n",
       "      <td>4.0</td>\n",
       "    </tr>\n",
       "    <tr>\n",
       "      <th>4</th>\n",
       "      <td>14</td>\n",
       "      <td>07d730b7-bed7-438a-967d-04b568334b05</td>\n",
       "      <td>4.0</td>\n",
       "    </tr>\n",
       "    <tr>\n",
       "      <th>...</th>\n",
       "      <td>...</td>\n",
       "      <td>...</td>\n",
       "      <td>...</td>\n",
       "    </tr>\n",
       "    <tr>\n",
       "      <th>2395</th>\n",
       "      <td>253</td>\n",
       "      <td>cbe05160-7e05-4922-aa0e-74d1b0b0b7ca</td>\n",
       "      <td>4.0</td>\n",
       "    </tr>\n",
       "    <tr>\n",
       "      <th>2396</th>\n",
       "      <td>253</td>\n",
       "      <td>cf15539c-999a-4a72-8534-3b2397a9d4c2</td>\n",
       "      <td>4.0</td>\n",
       "    </tr>\n",
       "    <tr>\n",
       "      <th>2397</th>\n",
       "      <td>253</td>\n",
       "      <td>d1a65a56-e25e-4c29-a2cf-b274174efbf2</td>\n",
       "      <td>4.0</td>\n",
       "    </tr>\n",
       "    <tr>\n",
       "      <th>2398</th>\n",
       "      <td>253</td>\n",
       "      <td>d3a823d6-ae68-4d56-87e0-0d12bb1e8d67</td>\n",
       "      <td>4.0</td>\n",
       "    </tr>\n",
       "    <tr>\n",
       "      <th>2399</th>\n",
       "      <td>253</td>\n",
       "      <td>d3f6951a-cc15-4b57-89eb-103c654fe76e</td>\n",
       "      <td>4.0</td>\n",
       "    </tr>\n",
       "  </tbody>\n",
       "</table>\n",
       "<p>2400 rows × 3 columns</p>\n",
       "</div>"
      ],
      "text/plain": [
       "      operator_id                              match_id  nb_kills\n",
       "0              14  0240b2df-ba89-4a1a-b491-a3c34a9e9c86       4.0\n",
       "1              14  034e52a5-243e-4174-8142-488a47946814       4.0\n",
       "2              14  055b422d-f92e-4ea3-a159-4d7589ae9cea       4.0\n",
       "3              14  0644773a-b238-49ea-800c-2f8460cb09ce       4.0\n",
       "4              14  07d730b7-bed7-438a-967d-04b568334b05       4.0\n",
       "...           ...                                   ...       ...\n",
       "2395          253  cbe05160-7e05-4922-aa0e-74d1b0b0b7ca       4.0\n",
       "2396          253  cf15539c-999a-4a72-8534-3b2397a9d4c2       4.0\n",
       "2397          253  d1a65a56-e25e-4c29-a2cf-b274174efbf2       4.0\n",
       "2398          253  d3a823d6-ae68-4d56-87e0-0d12bb1e8d67       4.0\n",
       "2399          253  d3f6951a-cc15-4b57-89eb-103c654fe76e       4.0\n",
       "\n",
       "[2400 rows x 3 columns]"
      ]
     },
     "execution_count": 25,
     "metadata": {},
     "output_type": "execute_result"
    }
   ],
   "source": [
    "pd.read_csv(temp_file_path)"
   ]
  }
 ],
 "metadata": {
  "kernelspec": {
   "display_name": "r6-logs",
   "language": "python",
   "name": "python3"
  },
  "language_info": {
   "codemirror_mode": {
    "name": "ipython",
    "version": 3
   },
   "file_extension": ".py",
   "mimetype": "text/x-python",
   "name": "python",
   "nbconvert_exporter": "python",
   "pygments_lexer": "ipython3",
   "version": "3.12.7"
  }
 },
 "nbformat": 4,
 "nbformat_minor": 2
}
