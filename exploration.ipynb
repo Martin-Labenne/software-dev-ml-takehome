{
 "cells": [
  {
   "cell_type": "code",
   "execution_count": 1,
   "metadata": {},
   "outputs": [],
   "source": [
    "import pandas as pd\n",
    "import matplotlib.pyplot as plt\n",
    "import numpy as np\n",
    "import tracemalloc\n",
    "import tempfile\n",
    "\n",
    "from src.logs_helper import load_matchs, store_matchs, generate_matchs"
   ]
  },
  {
   "cell_type": "code",
   "execution_count": 2,
   "metadata": {},
   "outputs": [],
   "source": [
    "df = load_matchs('logs/r6-matches.log')"
   ]
  },
  {
   "cell_type": "code",
   "execution_count": 3,
   "metadata": {},
   "outputs": [
    {
     "data": {
      "text/plain": [
       "(55833, 4)"
      ]
     },
     "execution_count": 3,
     "metadata": {},
     "output_type": "execute_result"
    }
   ],
   "source": [
    "df.shape"
   ]
  },
  {
   "cell_type": "code",
   "execution_count": 4,
   "metadata": {},
   "outputs": [
    {
     "data": {
      "text/plain": [
       "player_id      0\n",
       "match_id       0\n",
       "operator_id    0\n",
       "nb_kills       0\n",
       "dtype: int64"
      ]
     },
     "execution_count": 4,
     "metadata": {},
     "output_type": "execute_result"
    }
   ],
   "source": [
    "df.isnull().sum()"
   ]
  },
  {
   "cell_type": "code",
   "execution_count": 5,
   "metadata": {},
   "outputs": [
    {
     "data": {
      "text/html": [
       "<div>\n",
       "<style scoped>\n",
       "    .dataframe tbody tr th:only-of-type {\n",
       "        vertical-align: middle;\n",
       "    }\n",
       "\n",
       "    .dataframe tbody tr th {\n",
       "        vertical-align: top;\n",
       "    }\n",
       "\n",
       "    .dataframe thead th {\n",
       "        text-align: right;\n",
       "    }\n",
       "</style>\n",
       "<table border=\"1\" class=\"dataframe\">\n",
       "  <thead>\n",
       "    <tr style=\"text-align: right;\">\n",
       "      <th></th>\n",
       "      <th>player_id</th>\n",
       "      <th>match_id</th>\n",
       "      <th>operator_id</th>\n",
       "      <th>nb_kills</th>\n",
       "    </tr>\n",
       "  </thead>\n",
       "  <tbody>\n",
       "    <tr>\n",
       "      <th>0</th>\n",
       "      <td>9e55f54f-a293-4ec5-b7d6-9bab73e2419b</td>\n",
       "      <td>9ba4bf49-8111-413e-bce6-557d2231f7c0</td>\n",
       "      <td>107</td>\n",
       "      <td>3</td>\n",
       "    </tr>\n",
       "    <tr>\n",
       "      <th>1</th>\n",
       "      <td>6f560325-2d65-4d21-9f9c-ea8203011c06</td>\n",
       "      <td>c029855e-87ff-49c0-95cd-b7ce323924f8</td>\n",
       "      <td>253</td>\n",
       "      <td>1</td>\n",
       "    </tr>\n",
       "    <tr>\n",
       "      <th>2</th>\n",
       "      <td>4377acde-020e-4cf3-a6d7-8a7ab27ac8ea</td>\n",
       "      <td>c51b48a1-b7c7-408e-98fe-219da50333be</td>\n",
       "      <td>233</td>\n",
       "      <td>4</td>\n",
       "    </tr>\n",
       "    <tr>\n",
       "      <th>3</th>\n",
       "      <td>45d90033-79a4-4dfe-b1d3-14b84839e0cf</td>\n",
       "      <td>758adcc6-ebe3-416b-b0c7-f0bf0c7bef88</td>\n",
       "      <td>72</td>\n",
       "      <td>4</td>\n",
       "    </tr>\n",
       "    <tr>\n",
       "      <th>4</th>\n",
       "      <td>179db9c6-9c0d-4dca-aef9-a86f7b2ee9d2</td>\n",
       "      <td>84ac25ed-d72f-4011-80f6-46f80fde1301</td>\n",
       "      <td>84</td>\n",
       "      <td>3</td>\n",
       "    </tr>\n",
       "  </tbody>\n",
       "</table>\n",
       "</div>"
      ],
      "text/plain": [
       "                              player_id                              match_id  \\\n",
       "0  9e55f54f-a293-4ec5-b7d6-9bab73e2419b  9ba4bf49-8111-413e-bce6-557d2231f7c0   \n",
       "1  6f560325-2d65-4d21-9f9c-ea8203011c06  c029855e-87ff-49c0-95cd-b7ce323924f8   \n",
       "2  4377acde-020e-4cf3-a6d7-8a7ab27ac8ea  c51b48a1-b7c7-408e-98fe-219da50333be   \n",
       "3  45d90033-79a4-4dfe-b1d3-14b84839e0cf  758adcc6-ebe3-416b-b0c7-f0bf0c7bef88   \n",
       "4  179db9c6-9c0d-4dca-aef9-a86f7b2ee9d2  84ac25ed-d72f-4011-80f6-46f80fde1301   \n",
       "\n",
       "   operator_id  nb_kills  \n",
       "0          107         3  \n",
       "1          253         1  \n",
       "2          233         4  \n",
       "3           72         4  \n",
       "4           84         3  "
      ]
     },
     "execution_count": 5,
     "metadata": {},
     "output_type": "execute_result"
    }
   ],
   "source": [
    "df.head()"
   ]
  },
  {
   "cell_type": "markdown",
   "metadata": {},
   "source": [
    "The logs does not look sorted by match_id, player_id or operator_id."
   ]
  },
  {
   "cell_type": "code",
   "execution_count": 6,
   "metadata": {},
   "outputs": [
    {
     "data": {
      "text/plain": [
       "array([ 14,  24,  30,  46,  64,  72,  73,  84, 100, 107, 109, 112, 130,\n",
       "       132, 173, 193, 194, 211, 230, 233, 237, 241, 245, 253])"
      ]
     },
     "execution_count": 6,
     "metadata": {},
     "output_type": "execute_result"
    }
   ],
   "source": [
    "operators = df.operator_id.unique()\n",
    "operators.sort()\n",
    "operators"
   ]
  },
  {
   "cell_type": "code",
   "execution_count": 7,
   "metadata": {},
   "outputs": [
    {
     "data": {
      "image/png": "[encoded data removed]",
      "text/plain": [
       "<Figure size 640x480 with 1 Axes>"
      ]
     },
     "metadata": {},
     "output_type": "display_data"
    }
   ],
   "source": [
    "df.operator_id.value_counts().sort_index().plot(kind='bar', title='Count of Operators in the sample Log file')\n",
    "plt.show()"
   ]
  },
  {
   "cell_type": "code",
   "execution_count": 8,
   "metadata": {},
   "outputs": [
    {
     "data": {
      "image/png": "[encoded data removed]",
      "text/plain": [
       "<Figure size 640x480 with 1 Axes>"
      ]
     },
     "metadata": {},
     "output_type": "display_data"
    }
   ],
   "source": [
    "operators_mean_kills = df[['operator_id', 'nb_kills']].groupby('operator_id').mean()\n",
    "operators_mean_kills.sort_values(by='nb_kills')\n",
    "operators_mean_kills.plot(kind='bar', title='Mean nb of kills per operator in the sample Log file')\n",
    "plt.show()"
   ]
  },
  {
   "cell_type": "code",
   "execution_count": 9,
   "metadata": {},
   "outputs": [
    {
     "data": {
      "image/png": "[encoded data removed]",
      "text/plain": [
       "<Figure size 640x480 with 1 Axes>"
      ]
     },
     "metadata": {},
     "output_type": "display_data"
    }
   ],
   "source": [
    "df.nb_kills.value_counts().sort_index().plot(kind='bar', title='Count of nb_kills values in the sample Log file')\n",
    "plt.show()"
   ]
  },
  {
   "cell_type": "code",
   "execution_count": 10,
   "metadata": {},
   "outputs": [
    {
     "data": {
      "text/plain": [
       "1000"
      ]
     },
     "execution_count": 10,
     "metadata": {},
     "output_type": "execute_result"
    }
   ],
   "source": [
    "len(df.match_id.unique())"
   ]
  },
  {
   "cell_type": "code",
   "execution_count": 11,
   "metadata": {},
   "outputs": [
    {
     "data": {
      "text/plain": [
       "100"
      ]
     },
     "execution_count": 11,
     "metadata": {},
     "output_type": "execute_result"
    }
   ],
   "source": [
    "len(df['player_id'].unique())"
   ]
  },
  {
   "cell_type": "code",
   "execution_count": 12,
   "metadata": {},
   "outputs": [
    {
     "data": {
      "image/png": "[encoded data removed]",
      "text/plain": [
       "<Figure size 1000x500 with 1 Axes>"
      ]
     },
     "metadata": {},
     "output_type": "display_data"
    }
   ],
   "source": [
    "nb_row_per_match = df.match_id.value_counts()\n",
    "\n",
    "nb_row_per_match_distribution = nb_row_per_match.value_counts().sort_index()\n",
    "\n",
    "plt.figure(figsize=(10,5))\n",
    "\n",
    "nb_row_per_match_distribution.plot(kind='bar', title='Repartition of the nb of row per match')\n",
    "plt.show()"
   ]
  },
  {
   "cell_type": "code",
   "execution_count": 13,
   "metadata": {},
   "outputs": [
    {
     "name": "stdout",
     "output_type": "stream",
     "text": [
      "Average nb of row per match: 55.833\n",
      "Std nb of row per match: 9.328189052543907\n"
     ]
    }
   ],
   "source": [
    "mu = np.mean(nb_row_per_match.values)\n",
    "std = np.std(nb_row_per_match.values)\n",
    "\n",
    "print(f'Average nb of row per match: {mu}')\n",
    "print(f'Std nb of row per match: {std}')"
   ]
  },
  {
   "cell_type": "code",
   "execution_count": 14,
   "metadata": {},
   "outputs": [
    {
     "data": {
      "text/plain": [
       "player_id\n",
       "10    1000\n",
       "Name: count, dtype: int64"
      ]
     },
     "execution_count": 14,
     "metadata": {},
     "output_type": "execute_result"
    }
   ],
   "source": [
    "df.groupby('match_id')['player_id'].nunique().value_counts()"
   ]
  },
  {
   "cell_type": "markdown",
   "metadata": {},
   "source": [
    "Its confirmed that all match have 10 players."
   ]
  },
  {
   "cell_type": "markdown",
   "metadata": {},
   "source": [
    "Thanks to all these information, I can implement a match generation script."
   ]
  },
  {
   "cell_type": "markdown",
   "metadata": {},
   "source": [
    "```python3\n",
    ">>> %timeit -r 5 -n 3 matchs = generate_matchs(10**4)\n",
    "... 1.07 s ± 6.82 ms per loop (mean ± std. dev. of 5 runs, 3 loops each)\n",
    "```"
   ]
  },
  {
   "cell_type": "markdown",
   "metadata": {},
   "source": [
    "```python3\n",
    ">>> %time matchs_100k = generate_matchs(10 ** 5)\n",
    "... CPU times: user 10.7 s, sys: 1.61 s, total: 12.3 s\n",
    "... Wall time: 12.3 s\n",
    "```"
   ]
  },
  {
   "cell_type": "code",
   "execution_count": 14,
   "metadata": {},
   "outputs": [],
   "source": [
    "from pathlib import Path\n",
    "\n",
    "path_100k = Path('logs/100k_matchs.log')\n",
    "\n",
    "if not path_100k.exists():\n",
    "\n",
    "    path_100k.parent.mkdir(parents=True, exist_ok=True)\n",
    "    file = path_100k.open(mode='w')\n",
    "\n",
    "    matchs_100k = generate_matchs(10 ** 5)\n",
    "\n",
    "    store_matchs(file, matchs_100k)"
   ]
  },
  {
   "cell_type": "code",
   "execution_count": 15,
   "metadata": {},
   "outputs": [],
   "source": [
    "def print_peak_memory_MB(function):\n",
    "    def sub_func(*args, **kwargs):     \n",
    "        tracemalloc.start()\n",
    "        res = function(*args, **kwargs)\n",
    "\n",
    "        _, peak = tracemalloc.get_traced_memory()\n",
    "        tracemalloc_memory = tracemalloc.get_tracemalloc_memory()\n",
    "\n",
    "        tracemalloc.stop()\n",
    "        function_peak_memory_usage = peak - tracemalloc_memory\n",
    "\n",
    "        print(f'Peak Memory Usage {function_peak_memory_usage / (1024**2)} MB')\n",
    "        return res\n",
    "    return sub_func"
   ]
  },
  {
   "cell_type": "code",
   "execution_count": 16,
   "metadata": {},
   "outputs": [
    {
     "name": "stdout",
     "output_type": "stream",
     "text": [
      "Peak Memory Usage 392.8585252761841 MB\n",
      "100k matchs represent arround 5M and 500k rows\n"
     ]
    }
   ],
   "source": [
    "@print_peak_memory_MB\n",
    "def load_100k_matchs(): \n",
    "    return load_matchs(path_100k)\n",
    "\n",
    "matchs_100k = load_100k_matchs()\n",
    "rows, cols = matchs_100k.shape\n",
    "\n",
    "print(f'100k matchs represent arround {rows//(10 ** 6)}M and {(rows % (10 ** 6))//(10**5) }00k rows')"
   ]
  },
  {
   "cell_type": "code",
   "execution_count": 17,
   "metadata": {},
   "outputs": [],
   "source": [
    "path_1M = Path('logs/1M_matchs.log')\n",
    "if not path_1M.exists():\n",
    "    path_1M.parent.mkdir(parents=True, exist_ok=True)\n",
    "\n",
    "    file = path_1M.open(mode='a')\n",
    "\n",
    "    for _ in range(10): \n",
    "        df = generate_matchs(10 ** 5)\n",
    "        store_matchs(file, df)"
   ]
  },
  {
   "cell_type": "markdown",
   "metadata": {},
   "source": [
    "4 min to generate 1M matchs - 4,11 Go "
   ]
  },
  {
   "cell_type": "code",
   "execution_count": 18,
   "metadata": {},
   "outputs": [],
   "source": [
    "@print_peak_memory_MB\n",
    "def get_next_chunk(reader): \n",
    "    return reader.get_chunk()"
   ]
  },
  {
   "cell_type": "code",
   "execution_count": 19,
   "metadata": {},
   "outputs": [],
   "source": [
    "# with load_matchs(path_1M, chunksize=10**6) as reader: # 1M lines\n",
    "#     chunk = get_next_chunk(reader)\n",
    "\n",
    "# Peak Memory Usage 71.61651611328125 MB"
   ]
  },
  {
   "cell_type": "code",
   "execution_count": 20,
   "metadata": {},
   "outputs": [],
   "source": [
    "# with load_matchs(path_1M, chunksize=5*(10**6)) as reader: # 5M lines\n",
    "#     chunk = get_next_chunk(reader)\n",
    "\n",
    "# Peak Memory Usage 355.6387710571289 MB"
   ]
  },
  {
   "cell_type": "code",
   "execution_count": 21,
   "metadata": {},
   "outputs": [
    {
     "name": "stdout",
     "output_type": "stream",
     "text": [
      "Peak Memory Usage 710.5471343994141 MB\n"
     ]
    }
   ],
   "source": [
    "with load_matchs(path_1M, chunksize=10**7) as reader: # 10M lines\n",
    "    chunk = get_next_chunk(reader)\n",
    "\n",
    "# Peak Memory Usage 710.5465478897095 MB"
   ]
  },
  {
   "cell_type": "code",
   "execution_count": 22,
   "metadata": {},
   "outputs": [],
   "source": [
    "# with load_matchs(path_1M, chunksize=2*(10**7)) as reader: # 20M lines\n",
    "#     chunk = get_next_chunk(reader)\n",
    "\n",
    "# Peak Memory Usage 1420.363293647766 MB"
   ]
  },
  {
   "cell_type": "code",
   "execution_count": 23,
   "metadata": {},
   "outputs": [
    {
     "data": {
      "image/png": "[encoded data removed]",
      "text/plain": [
       "<Figure size 800x500 with 1 Axes>"
      ]
     },
     "metadata": {},
     "output_type": "display_data"
    }
   ],
   "source": [
    "chunk_sizes = [10**6, 5*(10**6), 10**7, 2*(10**7)]\n",
    "peak_memory_usage_mb = [71, 355, 710, 1420]\n",
    "\n",
    "# Create the plot\n",
    "plt.figure(figsize=(8, 5))  # Set the figure size\n",
    "plt.plot(chunk_sizes, peak_memory_usage_mb, marker='o', linestyle='-', color='b', label='Memory Usage')  # Line plot\n",
    "\n",
    "# Add a horizontal line at 1 GB (1000 MB)\n",
    "plt.axhline(y=1000, color='r', linestyle='--', label='1 GB Limit')\n",
    "\n",
    "# Add titles and labels\n",
    "plt.title('Peak Memory Usage vs. Chunk Size', fontsize=14)\n",
    "plt.xlabel('Chunk Size (rows)', fontsize=12)\n",
    "plt.ylabel('Peak Memory Usage (MB)', fontsize=12)\n",
    "\n",
    "# Customizing the ticks and scaling\n",
    "plt.xticks(chunk_sizes, ['1M', '5M', '10M', '20M'])  # Format x-axis with readable chunk sizes\n",
    "plt.grid(True, which='both', linestyle='--', linewidth=0.5)  # Add grid for better readability\n",
    "\n",
    "# Add a legend\n",
    "plt.legend()\n",
    "\n",
    "# Show the plot\n",
    "plt.tight_layout()\n",
    "plt.show()"
   ]
  },
  {
   "cell_type": "markdown",
   "metadata": {},
   "source": [
    "A good tradeoff is a chunksize at 10M lines."
   ]
  },
  {
   "cell_type": "markdown",
   "metadata": {},
   "source": [
    "operator_top100_YYYYMMDD.txt (both on the last 7 days.)\n",
    "\n",
    "operator_id|match_id1:avg_kills1,match_id2:avg_kills2,...,match_id100:avg_kills100 "
   ]
  },
  {
   "cell_type": "markdown",
   "metadata": {},
   "source": [
    "SELECT \n",
    "      operator_id\n",
    "    , match_id\n",
    "    , sum(nb_kills)\n",
    "    , count(*)\n",
    "FROM matchs \n",
    "GROUP BY operator_id, match_id"
   ]
  },
  {
   "cell_type": "code",
   "execution_count": 23,
   "metadata": {},
   "outputs": [],
   "source": [
    "def count_sum_kills_of_operators_per_match(df): \n",
    "    return (\n",
    "        df.groupby(\n",
    "            ['operator_id', 'match_id']\n",
    "        )['nb_kills']\n",
    "        .aggregate(['sum', 'count'])\n",
    "        .reset_index()\n",
    "    )\n",
    "\n",
    "# works only if you can load the entire df in memory\n",
    "def top_100_average_kills_per_operator(df: pd.DataFrame): \n",
    "    return (\n",
    "        df.groupby(\n",
    "            ['operator_id', 'match_id']\n",
    "        )['nb_kills']\n",
    "        .mean()\n",
    "        .reset_index()\n",
    "        .sort_values(\n",
    "            by=['operator_id', 'nb_kills'], \n",
    "            ascending=[True, False]\n",
    "        )\n",
    "        .groupby(\n",
    "            by='operator_id'\n",
    "        )\n",
    "        .head(100)\n",
    "    )\n",
    "\n",
    "# a vérifier si c'est vraiment ce qui est demandé dans l'énoncé\n",
    "def top_10_best_matchs_per_player(df: pd.DataFrame): \n",
    "    return (\n",
    "        df.groupby(\n",
    "            by=['player_id', 'match_id']\n",
    "        )['nb_kills']\n",
    "        .sum()\n",
    "        .reset_index()\n",
    "        .sort_values(\n",
    "            by=['player_id', 'nb_kills'],\n",
    "            ascending=[True, False]\n",
    "        )\n",
    "        .groupby(\n",
    "            by='match_id'\n",
    "        ).head(10)\n",
    "    )"
   ]
  },
  {
   "cell_type": "code",
   "execution_count": 24,
   "metadata": {},
   "outputs": [
    {
     "data": {
      "text/html": [
       "<div>\n",
       "<style scoped>\n",
       "    .dataframe tbody tr th:only-of-type {\n",
       "        vertical-align: middle;\n",
       "    }\n",
       "\n",
       "    .dataframe tbody tr th {\n",
       "        vertical-align: top;\n",
       "    }\n",
       "\n",
       "    .dataframe thead th {\n",
       "        text-align: right;\n",
       "    }\n",
       "</style>\n",
       "<table border=\"1\" class=\"dataframe\">\n",
       "  <thead>\n",
       "    <tr style=\"text-align: right;\">\n",
       "      <th></th>\n",
       "      <th>operator_id</th>\n",
       "      <th>match_id</th>\n",
       "      <th>sum</th>\n",
       "      <th>count</th>\n",
       "    </tr>\n",
       "  </thead>\n",
       "  <tbody>\n",
       "    <tr>\n",
       "      <th>0</th>\n",
       "      <td>14</td>\n",
       "      <td>00236da6-e7a0-4d93-83ec-b14969a257ce</td>\n",
       "      <td>6</td>\n",
       "      <td>3</td>\n",
       "    </tr>\n",
       "    <tr>\n",
       "      <th>1</th>\n",
       "      <td>14</td>\n",
       "      <td>002d5ee4-fa09-448e-b7d4-228c1ec3d678</td>\n",
       "      <td>8</td>\n",
       "      <td>5</td>\n",
       "    </tr>\n",
       "    <tr>\n",
       "      <th>2</th>\n",
       "      <td>14</td>\n",
       "      <td>01e4e65f-b4d4-4561-9fb0-3890246782db</td>\n",
       "      <td>8</td>\n",
       "      <td>3</td>\n",
       "    </tr>\n",
       "    <tr>\n",
       "      <th>3</th>\n",
       "      <td>14</td>\n",
       "      <td>0240b2df-ba89-4a1a-b491-a3c34a9e9c86</td>\n",
       "      <td>4</td>\n",
       "      <td>1</td>\n",
       "    </tr>\n",
       "    <tr>\n",
       "      <th>4</th>\n",
       "      <td>14</td>\n",
       "      <td>02755770-ee61-4fc7-9832-de7bf64ca252</td>\n",
       "      <td>2</td>\n",
       "      <td>2</td>\n",
       "    </tr>\n",
       "    <tr>\n",
       "      <th>...</th>\n",
       "      <td>...</td>\n",
       "      <td>...</td>\n",
       "      <td>...</td>\n",
       "      <td>...</td>\n",
       "    </tr>\n",
       "    <tr>\n",
       "      <th>22280</th>\n",
       "      <td>253</td>\n",
       "      <td>fe528b96-a3c8-402b-863c-4d3696bdece6</td>\n",
       "      <td>6</td>\n",
       "      <td>3</td>\n",
       "    </tr>\n",
       "    <tr>\n",
       "      <th>22281</th>\n",
       "      <td>253</td>\n",
       "      <td>feb7f3b1-0f0e-43d1-8fb4-c05d9d36374d</td>\n",
       "      <td>10</td>\n",
       "      <td>3</td>\n",
       "    </tr>\n",
       "    <tr>\n",
       "      <th>22282</th>\n",
       "      <td>253</td>\n",
       "      <td>fefacf86-8edd-4539-bc87-db5f3c8d86a9</td>\n",
       "      <td>3</td>\n",
       "      <td>3</td>\n",
       "    </tr>\n",
       "    <tr>\n",
       "      <th>22283</th>\n",
       "      <td>253</td>\n",
       "      <td>ff2d51de-bb06-469e-b483-3735cfacfdae</td>\n",
       "      <td>7</td>\n",
       "      <td>3</td>\n",
       "    </tr>\n",
       "    <tr>\n",
       "      <th>22284</th>\n",
       "      <td>253</td>\n",
       "      <td>ffcabedd-1eca-4f02-8dd4-28fd9133e87c</td>\n",
       "      <td>3</td>\n",
       "      <td>3</td>\n",
       "    </tr>\n",
       "  </tbody>\n",
       "</table>\n",
       "<p>22285 rows × 4 columns</p>\n",
       "</div>"
      ],
      "text/plain": [
       "       operator_id                              match_id  sum  count\n",
       "0               14  00236da6-e7a0-4d93-83ec-b14969a257ce    6      3\n",
       "1               14  002d5ee4-fa09-448e-b7d4-228c1ec3d678    8      5\n",
       "2               14  01e4e65f-b4d4-4561-9fb0-3890246782db    8      3\n",
       "3               14  0240b2df-ba89-4a1a-b491-a3c34a9e9c86    4      1\n",
       "4               14  02755770-ee61-4fc7-9832-de7bf64ca252    2      2\n",
       "...            ...                                   ...  ...    ...\n",
       "22280          253  fe528b96-a3c8-402b-863c-4d3696bdece6    6      3\n",
       "22281          253  feb7f3b1-0f0e-43d1-8fb4-c05d9d36374d   10      3\n",
       "22282          253  fefacf86-8edd-4539-bc87-db5f3c8d86a9    3      3\n",
       "22283          253  ff2d51de-bb06-469e-b483-3735cfacfdae    7      3\n",
       "22284          253  ffcabedd-1eca-4f02-8dd4-28fd9133e87c    3      3\n",
       "\n",
       "[22285 rows x 4 columns]"
      ]
     },
     "execution_count": 24,
     "metadata": {},
     "output_type": "execute_result"
    }
   ],
   "source": [
    "count_sum_kills_of_operators_per_match(df)"
   ]
  },
  {
   "cell_type": "code",
   "execution_count": 28,
   "metadata": {},
   "outputs": [
    {
     "name": "stdout",
     "output_type": "stream",
     "text": [
      "(5531636, 4)\n"
     ]
    },
    {
     "data": {
      "text/html": [
       "<div>\n",
       "<style scoped>\n",
       "    .dataframe tbody tr th:only-of-type {\n",
       "        vertical-align: middle;\n",
       "    }\n",
       "\n",
       "    .dataframe tbody tr th {\n",
       "        vertical-align: top;\n",
       "    }\n",
       "\n",
       "    .dataframe thead th {\n",
       "        text-align: right;\n",
       "    }\n",
       "</style>\n",
       "<table border=\"1\" class=\"dataframe\">\n",
       "  <thead>\n",
       "    <tr style=\"text-align: right;\">\n",
       "      <th></th>\n",
       "      <th>operator_id</th>\n",
       "      <th>match_id</th>\n",
       "      <th>sum</th>\n",
       "      <th>count</th>\n",
       "    </tr>\n",
       "  </thead>\n",
       "  <tbody>\n",
       "    <tr>\n",
       "      <th>0</th>\n",
       "      <td>14</td>\n",
       "      <td>000009c4-4f5b-4372-a32e-0baa5a05e089</td>\n",
       "      <td>6</td>\n",
       "      <td>4</td>\n",
       "    </tr>\n",
       "    <tr>\n",
       "      <th>1</th>\n",
       "      <td>14</td>\n",
       "      <td>00029586-3111-4e45-8179-872038d2e990</td>\n",
       "      <td>3</td>\n",
       "      <td>2</td>\n",
       "    </tr>\n",
       "    <tr>\n",
       "      <th>2</th>\n",
       "      <td>14</td>\n",
       "      <td>0003f77c-733c-455b-b982-116651f0df11</td>\n",
       "      <td>4</td>\n",
       "      <td>1</td>\n",
       "    </tr>\n",
       "    <tr>\n",
       "      <th>3</th>\n",
       "      <td>14</td>\n",
       "      <td>00048a98-e9de-4959-af42-c94dc85ae255</td>\n",
       "      <td>4</td>\n",
       "      <td>2</td>\n",
       "    </tr>\n",
       "    <tr>\n",
       "      <th>4</th>\n",
       "      <td>14</td>\n",
       "      <td>0005b23c-8cac-4885-b4ef-043f09546367</td>\n",
       "      <td>4</td>\n",
       "      <td>1</td>\n",
       "    </tr>\n",
       "    <tr>\n",
       "      <th>...</th>\n",
       "      <td>...</td>\n",
       "      <td>...</td>\n",
       "      <td>...</td>\n",
       "      <td>...</td>\n",
       "    </tr>\n",
       "    <tr>\n",
       "      <th>2153600</th>\n",
       "      <td>253</td>\n",
       "      <td>fffcde84-72de-4d63-9605-fb99554a8c83</td>\n",
       "      <td>4</td>\n",
       "      <td>1</td>\n",
       "    </tr>\n",
       "    <tr>\n",
       "      <th>2153601</th>\n",
       "      <td>253</td>\n",
       "      <td>fffed33a-9564-4f8a-9e79-535e7b5f03fb</td>\n",
       "      <td>6</td>\n",
       "      <td>4</td>\n",
       "    </tr>\n",
       "    <tr>\n",
       "      <th>2153602</th>\n",
       "      <td>253</td>\n",
       "      <td>ffff49cd-629b-4faa-8b98-2eda64e6576b</td>\n",
       "      <td>6</td>\n",
       "      <td>3</td>\n",
       "    </tr>\n",
       "    <tr>\n",
       "      <th>2153603</th>\n",
       "      <td>253</td>\n",
       "      <td>ffff6b9b-579a-46f9-b5c4-b20f1cb31ff0</td>\n",
       "      <td>9</td>\n",
       "      <td>3</td>\n",
       "    </tr>\n",
       "    <tr>\n",
       "      <th>2153604</th>\n",
       "      <td>253</td>\n",
       "      <td>ffffee34-4e15-4eb1-bc69-00db1d88d425</td>\n",
       "      <td>4</td>\n",
       "      <td>3</td>\n",
       "    </tr>\n",
       "  </tbody>\n",
       "</table>\n",
       "<p>2153605 rows × 4 columns</p>\n",
       "</div>"
      ],
      "text/plain": [
       "         operator_id                              match_id  sum  count\n",
       "0                 14  000009c4-4f5b-4372-a32e-0baa5a05e089    6      4\n",
       "1                 14  00029586-3111-4e45-8179-872038d2e990    3      2\n",
       "2                 14  0003f77c-733c-455b-b982-116651f0df11    4      1\n",
       "3                 14  00048a98-e9de-4959-af42-c94dc85ae255    4      2\n",
       "4                 14  0005b23c-8cac-4885-b4ef-043f09546367    4      1\n",
       "...              ...                                   ...  ...    ...\n",
       "2153600          253  fffcde84-72de-4d63-9605-fb99554a8c83    4      1\n",
       "2153601          253  fffed33a-9564-4f8a-9e79-535e7b5f03fb    6      4\n",
       "2153602          253  ffff49cd-629b-4faa-8b98-2eda64e6576b    6      3\n",
       "2153603          253  ffff6b9b-579a-46f9-b5c4-b20f1cb31ff0    9      3\n",
       "2153604          253  ffffee34-4e15-4eb1-bc69-00db1d88d425    4      3\n",
       "\n",
       "[2153605 rows x 4 columns]"
      ]
     },
     "execution_count": 28,
     "metadata": {},
     "output_type": "execute_result"
    }
   ],
   "source": [
    "matchs_100k = load_matchs('logs/100k_matchs.log')\n",
    "print(matchs_100k.shape)\n",
    "count_sum_kills_of_operators_per_match(matchs_100k)"
   ]
  },
  {
   "cell_type": "code",
   "execution_count": 29,
   "metadata": {},
   "outputs": [
    {
     "data": {
      "text/plain": [
       "0.38932514720780614"
      ]
     },
     "execution_count": 29,
     "metadata": {},
     "output_type": "execute_result"
    }
   ],
   "source": [
    "2153605 / 5531636"
   ]
  },
  {
   "cell_type": "code",
   "execution_count": 25,
   "metadata": {},
   "outputs": [
    {
     "data": {
      "text/plain": [
       "0.39913671126394784"
      ]
     },
     "execution_count": 25,
     "metadata": {},
     "output_type": "execute_result"
    }
   ],
   "source": [
    "22285 / 55833"
   ]
  },
  {
   "cell_type": "code",
   "execution_count": 30,
   "metadata": {},
   "outputs": [],
   "source": [
    "def store_tempfile(df:pd.DataFrame): \n",
    "\n",
    "    with tempfile.NamedTemporaryFile(mode='w', suffix='.csv', delete=False) as temp_file:\n",
    "        df.to_csv(temp_file, index=False, header=True)\n",
    "        temp_file_path = temp_file.name\n",
    "\n",
    "        return temp_file_path"
   ]
  },
  {
   "cell_type": "code",
   "execution_count": 34,
   "metadata": {},
   "outputs": [],
   "source": [
    "@print_peak_memory_MB\n",
    "def test_process_file(path, chunksize): \n",
    "\n",
    "    tempfile_names = []\n",
    "    splited_matchs = []\n",
    "\n",
    "    with load_matchs(path, chunksize=chunksize) as reader: # 10M lines    \n",
    "\n",
    "        for chunk in reader:\n",
    "                \n",
    "            first_match_id = chunk.iloc[0].match_id\n",
    "            last_match_id = chunk.iloc[-1].match_id\n",
    "\n",
    "            first_match = chunk[chunk.match_id == first_match_id]\n",
    "            last_match = chunk[chunk.match_id == last_match_id]\n",
    "\n",
    "            splited_matchs.append(first_match.copy())\n",
    "            splited_matchs.append(last_match.copy())\n",
    "            \n",
    "            nb_rows_first_match, _ = first_match.shape\n",
    "            nb_rows_last_match, _ = last_match.shape\n",
    "\n",
    "            tempfile_name = store_tempfile(\n",
    "                top_100_average_kills_per_operator(\n",
    "                    chunk.iloc[nb_rows_first_match: chunksize - nb_rows_last_match]\n",
    "                )\n",
    "            )\n",
    "            tempfile_names.append(tempfile_name)\n",
    "        \n",
    "    tempfile_name = store_tempfile(\n",
    "        top_100_average_kills_per_operator(\n",
    "            pd.concat(splited_matchs)\n",
    "        )\n",
    "    )\n",
    "    tempfile_names.append(tempfile_name)\n",
    "\n",
    "    return tempfile_names"
   ]
  },
  {
   "cell_type": "code",
   "execution_count": 38,
   "metadata": {},
   "outputs": [
    {
     "name": "stdout",
     "output_type": "stream",
     "text": [
      "Peak Memory Usage 116.00049304962158 MB\n"
     ]
    },
    {
     "data": {
      "text/plain": [
       "['/tmp/tmpmqsafga0.csv',\n",
       " '/tmp/tmptosbtq5n.csv',\n",
       " '/tmp/tmptktytpp0.csv',\n",
       " '/tmp/tmpp316wqtc.csv',\n",
       " '/tmp/tmpl7fxo5eu.csv',\n",
       " '/tmp/tmpiya18_21.csv',\n",
       " '/tmp/tmpb2jkrlxi.csv']"
      ]
     },
     "execution_count": 38,
     "metadata": {},
     "output_type": "execute_result"
    }
   ],
   "source": [
    "chunksize=10**6\n",
    "tempfile_names = test_process_file(path_100k, chunksize)\n",
    "tempfile_names"
   ]
  },
  {
   "cell_type": "code",
   "execution_count": 42,
   "metadata": {},
   "outputs": [
    {
     "name": "stdout",
     "output_type": "stream",
     "text": [
      "Peak Memory Usage 1039.0813903808594 MB\n"
     ]
    },
    {
     "data": {
      "text/plain": [
       "['/tmp/tmpsvl_2kxw.csv',\n",
       " '/tmp/tmpzj6vp8yv.csv',\n",
       " '/tmp/tmp2rxlnbn6.csv',\n",
       " '/tmp/tmpq0be61py.csv',\n",
       " '/tmp/tmpfy_lyder.csv',\n",
       " '/tmp/tmpmoqqcpjs.csv',\n",
       " '/tmp/tmpa8yjw8gd.csv']"
      ]
     },
     "execution_count": 42,
     "metadata": {},
     "output_type": "execute_result"
    }
   ],
   "source": [
    "chunksize=10**7\n",
    "tempfile_names = test_process_file(path_1M, chunksize)\n",
    "tempfile_names"
   ]
  },
  {
   "cell_type": "code",
   "execution_count": 43,
   "metadata": {},
   "outputs": [
    {
     "data": {
      "text/plain": [
       "(14557, 3)"
      ]
     },
     "execution_count": 43,
     "metadata": {},
     "output_type": "execute_result"
    }
   ],
   "source": [
    "concat_temp_df = pd.concat([\n",
    "    pd.read_csv(tempfile_name) for tempfile_name in tempfile_names\n",
    "])\n",
    "concat_temp_df.shape"
   ]
  },
  {
   "cell_type": "code",
   "execution_count": 44,
   "metadata": {},
   "outputs": [
    {
     "data": {
      "text/html": [
       "<div>\n",
       "<style scoped>\n",
       "    .dataframe tbody tr th:only-of-type {\n",
       "        vertical-align: middle;\n",
       "    }\n",
       "\n",
       "    .dataframe tbody tr th {\n",
       "        vertical-align: top;\n",
       "    }\n",
       "\n",
       "    .dataframe thead th {\n",
       "        text-align: right;\n",
       "    }\n",
       "</style>\n",
       "<table border=\"1\" class=\"dataframe\">\n",
       "  <thead>\n",
       "    <tr style=\"text-align: right;\">\n",
       "      <th></th>\n",
       "      <th>operator_id</th>\n",
       "      <th>match_id</th>\n",
       "      <th>nb_kills</th>\n",
       "    </tr>\n",
       "  </thead>\n",
       "  <tbody>\n",
       "    <tr>\n",
       "      <th>0</th>\n",
       "      <td>14</td>\n",
       "      <td>00092ed5-51a0-41ad-8136-551bd4ed0541</td>\n",
       "      <td>4.0</td>\n",
       "    </tr>\n",
       "    <tr>\n",
       "      <th>1</th>\n",
       "      <td>14</td>\n",
       "      <td>0013ed91-d8bb-493a-a5c8-ef09247436d4</td>\n",
       "      <td>4.0</td>\n",
       "    </tr>\n",
       "    <tr>\n",
       "      <th>2</th>\n",
       "      <td>14</td>\n",
       "      <td>00203f53-d50b-4a71-8bf8-08b8da45d715</td>\n",
       "      <td>4.0</td>\n",
       "    </tr>\n",
       "    <tr>\n",
       "      <th>3</th>\n",
       "      <td>14</td>\n",
       "      <td>0022bcf8-5290-4bee-be95-09f7d912b486</td>\n",
       "      <td>4.0</td>\n",
       "    </tr>\n",
       "    <tr>\n",
       "      <th>4</th>\n",
       "      <td>14</td>\n",
       "      <td>00270484-f0a4-4539-b97b-6c1ab633e9af</td>\n",
       "      <td>4.0</td>\n",
       "    </tr>\n",
       "  </tbody>\n",
       "</table>\n",
       "</div>"
      ],
      "text/plain": [
       "   operator_id                              match_id  nb_kills\n",
       "0           14  00092ed5-51a0-41ad-8136-551bd4ed0541       4.0\n",
       "1           14  0013ed91-d8bb-493a-a5c8-ef09247436d4       4.0\n",
       "2           14  00203f53-d50b-4a71-8bf8-08b8da45d715       4.0\n",
       "3           14  0022bcf8-5290-4bee-be95-09f7d912b486       4.0\n",
       "4           14  00270484-f0a4-4539-b97b-6c1ab633e9af       4.0"
      ]
     },
     "execution_count": 44,
     "metadata": {},
     "output_type": "execute_result"
    }
   ],
   "source": [
    "concat_temp_df.head()"
   ]
  },
  {
   "cell_type": "code",
   "execution_count": 49,
   "metadata": {},
   "outputs": [],
   "source": [
    "top_100 = top_100_average_kills_per_operator(concat_temp_df)"
   ]
  },
  {
   "cell_type": "code",
   "execution_count": 50,
   "metadata": {},
   "outputs": [
    {
     "data": {
      "text/html": [
       "<div>\n",
       "<style scoped>\n",
       "    .dataframe tbody tr th:only-of-type {\n",
       "        vertical-align: middle;\n",
       "    }\n",
       "\n",
       "    .dataframe tbody tr th {\n",
       "        vertical-align: top;\n",
       "    }\n",
       "\n",
       "    .dataframe thead th {\n",
       "        text-align: right;\n",
       "    }\n",
       "</style>\n",
       "<table border=\"1\" class=\"dataframe\">\n",
       "  <thead>\n",
       "    <tr style=\"text-align: right;\">\n",
       "      <th></th>\n",
       "      <th>operator_id</th>\n",
       "      <th>match_id</th>\n",
       "      <th>nb_kills</th>\n",
       "    </tr>\n",
       "  </thead>\n",
       "  <tbody>\n",
       "  </tbody>\n",
       "</table>\n",
       "</div>"
      ],
      "text/plain": [
       "Empty DataFrame\n",
       "Columns: [operator_id, match_id, nb_kills]\n",
       "Index: []"
      ]
     },
     "execution_count": 50,
     "metadata": {},
     "output_type": "execute_result"
    }
   ],
   "source": [
    "top_100[top_100.nb_kills < 4]"
   ]
  },
  {
   "cell_type": "code",
   "execution_count": null,
   "metadata": {},
   "outputs": [],
   "source": []
  },
  {
   "cell_type": "code",
   "execution_count": null,
   "metadata": {},
   "outputs": [],
   "source": []
  },
  {
   "cell_type": "code",
   "execution_count": null,
   "metadata": {},
   "outputs": [],
   "source": []
  },
  {
   "cell_type": "code",
   "execution_count": null,
   "metadata": {},
   "outputs": [],
   "source": []
  },
  {
   "cell_type": "code",
   "execution_count": null,
   "metadata": {},
   "outputs": [],
   "source": []
  },
  {
   "cell_type": "code",
   "execution_count": 29,
   "metadata": {},
   "outputs": [
    {
     "name": "stdout",
     "output_type": "stream",
     "text": [
      "Peak Memory Usage 523.5749797821045 MB\n"
     ]
    }
   ],
   "source": [
    "@print_peak_memory_MB\n",
    "def compute_metrics(path: str): \n",
    "    df = pd.read_csv(path, header=None, names=['player_id', 'match_id', 'operator_id', 'nb_kills'])\n",
    "\n",
    "    top_avg_kills = top_100_average_kills_per_operator(df)\n",
    "    # top_best_matchs = top_10_best_matchs_per_player(df)\n",
    "\n",
    "    return top_avg_kills\n",
    "\n",
    "top_avg_kills = compute_metrics('logs/100k_matchs.log')"
   ]
  },
  {
   "cell_type": "markdown",
   "metadata": {},
   "source": [
    "100k matchs seems managable under 1Go of RAM ~ 530 MB RAM"
   ]
  },
  {
   "cell_type": "code",
   "execution_count": 23,
   "metadata": {},
   "outputs": [],
   "source": [
    "chunksize = 10 ** 5\n",
    "\n",
    "chunked_df = pd.read_csv('logs/test.log', header=None, names=['player_id', 'match_id', 'operator_id', 'nb_kills'], chunksize=chunksize)"
   ]
  },
  {
   "cell_type": "code",
   "execution_count": 24,
   "metadata": {},
   "outputs": [
    {
     "data": {
      "text/plain": [
       "pandas.io.parsers.readers.TextFileReader"
      ]
     },
     "execution_count": 24,
     "metadata": {},
     "output_type": "execute_result"
    }
   ],
   "source": [
    "type(chunked_df)"
   ]
  },
  {
   "cell_type": "code",
   "execution_count": 25,
   "metadata": {},
   "outputs": [],
   "source": [
    "chunk = chunked_df.get_chunk()"
   ]
  },
  {
   "cell_type": "code",
   "execution_count": 26,
   "metadata": {},
   "outputs": [
    {
     "data": {
      "text/plain": [
       "pandas.core.frame.DataFrame"
      ]
     },
     "execution_count": 26,
     "metadata": {},
     "output_type": "execute_result"
    }
   ],
   "source": [
    "type(chunk)"
   ]
  },
  {
   "cell_type": "code",
   "execution_count": 28,
   "metadata": {},
   "outputs": [],
   "source": [
    "temp_file_path = store_tempfile(top_100_average_kills_per_operator(chunk))"
   ]
  },
  {
   "cell_type": "code",
   "execution_count": 29,
   "metadata": {},
   "outputs": [
    {
     "data": {
      "text/html": [
       "<div>\n",
       "<style scoped>\n",
       "    .dataframe tbody tr th:only-of-type {\n",
       "        vertical-align: middle;\n",
       "    }\n",
       "\n",
       "    .dataframe tbody tr th {\n",
       "        vertical-align: top;\n",
       "    }\n",
       "\n",
       "    .dataframe thead th {\n",
       "        text-align: right;\n",
       "    }\n",
       "</style>\n",
       "<table border=\"1\" class=\"dataframe\">\n",
       "  <thead>\n",
       "    <tr style=\"text-align: right;\">\n",
       "      <th></th>\n",
       "      <th>operator_id</th>\n",
       "      <th>match_id</th>\n",
       "      <th>nb_kills</th>\n",
       "    </tr>\n",
       "  </thead>\n",
       "  <tbody>\n",
       "    <tr>\n",
       "      <th>0</th>\n",
       "      <td>14</td>\n",
       "      <td>0240b2df-ba89-4a1a-b491-a3c34a9e9c86</td>\n",
       "      <td>4.0</td>\n",
       "    </tr>\n",
       "    <tr>\n",
       "      <th>1</th>\n",
       "      <td>14</td>\n",
       "      <td>034e52a5-243e-4174-8142-488a47946814</td>\n",
       "      <td>4.0</td>\n",
       "    </tr>\n",
       "    <tr>\n",
       "      <th>2</th>\n",
       "      <td>14</td>\n",
       "      <td>055b422d-f92e-4ea3-a159-4d7589ae9cea</td>\n",
       "      <td>4.0</td>\n",
       "    </tr>\n",
       "    <tr>\n",
       "      <th>3</th>\n",
       "      <td>14</td>\n",
       "      <td>0644773a-b238-49ea-800c-2f8460cb09ce</td>\n",
       "      <td>4.0</td>\n",
       "    </tr>\n",
       "    <tr>\n",
       "      <th>4</th>\n",
       "      <td>14</td>\n",
       "      <td>07d730b7-bed7-438a-967d-04b568334b05</td>\n",
       "      <td>4.0</td>\n",
       "    </tr>\n",
       "    <tr>\n",
       "      <th>...</th>\n",
       "      <td>...</td>\n",
       "      <td>...</td>\n",
       "      <td>...</td>\n",
       "    </tr>\n",
       "    <tr>\n",
       "      <th>2395</th>\n",
       "      <td>253</td>\n",
       "      <td>cbe05160-7e05-4922-aa0e-74d1b0b0b7ca</td>\n",
       "      <td>4.0</td>\n",
       "    </tr>\n",
       "    <tr>\n",
       "      <th>2396</th>\n",
       "      <td>253</td>\n",
       "      <td>cf15539c-999a-4a72-8534-3b2397a9d4c2</td>\n",
       "      <td>4.0</td>\n",
       "    </tr>\n",
       "    <tr>\n",
       "      <th>2397</th>\n",
       "      <td>253</td>\n",
       "      <td>d1a65a56-e25e-4c29-a2cf-b274174efbf2</td>\n",
       "      <td>4.0</td>\n",
       "    </tr>\n",
       "    <tr>\n",
       "      <th>2398</th>\n",
       "      <td>253</td>\n",
       "      <td>d3a823d6-ae68-4d56-87e0-0d12bb1e8d67</td>\n",
       "      <td>4.0</td>\n",
       "    </tr>\n",
       "    <tr>\n",
       "      <th>2399</th>\n",
       "      <td>253</td>\n",
       "      <td>d3f6951a-cc15-4b57-89eb-103c654fe76e</td>\n",
       "      <td>4.0</td>\n",
       "    </tr>\n",
       "  </tbody>\n",
       "</table>\n",
       "<p>2400 rows × 3 columns</p>\n",
       "</div>"
      ],
      "text/plain": [
       "      operator_id                              match_id  nb_kills\n",
       "0              14  0240b2df-ba89-4a1a-b491-a3c34a9e9c86       4.0\n",
       "1              14  034e52a5-243e-4174-8142-488a47946814       4.0\n",
       "2              14  055b422d-f92e-4ea3-a159-4d7589ae9cea       4.0\n",
       "3              14  0644773a-b238-49ea-800c-2f8460cb09ce       4.0\n",
       "4              14  07d730b7-bed7-438a-967d-04b568334b05       4.0\n",
       "...           ...                                   ...       ...\n",
       "2395          253  cbe05160-7e05-4922-aa0e-74d1b0b0b7ca       4.0\n",
       "2396          253  cf15539c-999a-4a72-8534-3b2397a9d4c2       4.0\n",
       "2397          253  d1a65a56-e25e-4c29-a2cf-b274174efbf2       4.0\n",
       "2398          253  d3a823d6-ae68-4d56-87e0-0d12bb1e8d67       4.0\n",
       "2399          253  d3f6951a-cc15-4b57-89eb-103c654fe76e       4.0\n",
       "\n",
       "[2400 rows x 3 columns]"
      ]
     },
     "execution_count": 29,
     "metadata": {},
     "output_type": "execute_result"
    }
   ],
   "source": [
    "pd.read_csv(temp_file_path)"
   ]
  }
 ],
 "metadata": {
  "kernelspec": {
   "display_name": "r6-logs",
   "language": "python",
   "name": "python3"
  },
  "language_info": {
   "codemirror_mode": {
    "name": "ipython",
    "version": 3
   },
   "file_extension": ".py",
   "mimetype": "text/x-python",
   "name": "python",
   "nbconvert_exporter": "python",
   "pygments_lexer": "ipython3",
   "version": "3.12.4"
  }
 },
 "nbformat": 4,
 "nbformat_minor": 2
}
